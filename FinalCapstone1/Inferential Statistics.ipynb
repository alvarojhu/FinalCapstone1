{
 "cells": [
  {
   "cell_type": "code",
   "execution_count": 1,
   "metadata": {},
   "outputs": [],
   "source": [
    "%matplotlib inline\n",
    "\n",
    "\n",
    "import pandas as pd\n",
    "import scipy as stats\n",
    "import seaborn as sns\n",
    "\n",
    "import matplotlib.pyplot as plt\n",
    "import numpy as np"
   ]
  },
  {
   "cell_type": "markdown",
   "metadata": {},
   "source": [
    "## Inferential Statistics\n",
    "\n",
    "My goal in this section is to statistically prove a few things. I want to see with a 95% certainty that there is indeed a strong correlation between points and salary, WS and salary, and Minutes/Game and Salary. I will run bootstrap samples and check to see if there what the probability is that any of these correlations only happened by chance. If the probability of achieving a correlation of what I had in each one is lower than 5%, then I will say that the two statistics are significantly correlated.\n",
    "\n",
    "I will also run Mann-Whitney tests to make sure that my conclusions are sound. \n",
    "\n",
    "My other goal in this section is to prove that there are real differences in the mean salary between some teams and positions. To do this, I will shuffle up the salaries and the players, then regroup them into teams and take the average salary again. I will take boostraps of this and see what the probability is of yieling a value as strong as the empirical mean difference between the two teams. \n"
   ]
  },
  {
   "cell_type": "code",
   "execution_count": 2,
   "metadata": {},
   "outputs": [],
   "source": [
    "Total2018 = pd.read_csv('Total2018_full')\n",
    "Total2018 = Total2018.drop(labels = ['Unnamed: 0','Unnamed: 0.1'] , axis = 1)"
   ]
  },
  {
   "cell_type": "code",
   "execution_count": 3,
   "metadata": {},
   "outputs": [
    {
     "data": {
      "text/html": [
       "<div>\n",
       "<style scoped>\n",
       "    .dataframe tbody tr th:only-of-type {\n",
       "        vertical-align: middle;\n",
       "    }\n",
       "\n",
       "    .dataframe tbody tr th {\n",
       "        vertical-align: top;\n",
       "    }\n",
       "\n",
       "    .dataframe thead th {\n",
       "        text-align: right;\n",
       "    }\n",
       "</style>\n",
       "<table border=\"1\" class=\"dataframe\">\n",
       "  <thead>\n",
       "    <tr style=\"text-align: right;\">\n",
       "      <th></th>\n",
       "      <th>Abbreviation</th>\n",
       "      <th>Meaning</th>\n",
       "    </tr>\n",
       "  </thead>\n",
       "  <tbody>\n",
       "    <tr>\n",
       "      <th>0</th>\n",
       "      <td>Rk</td>\n",
       "      <td>Rank</td>\n",
       "    </tr>\n",
       "    <tr>\n",
       "      <th>1</th>\n",
       "      <td>Tm</td>\n",
       "      <td>Team</td>\n",
       "    </tr>\n",
       "    <tr>\n",
       "      <th>2</th>\n",
       "      <td>2018-19</td>\n",
       "      <td>Salary for 2018-19 season</td>\n",
       "    </tr>\n",
       "    <tr>\n",
       "      <th>3</th>\n",
       "      <td>Name</td>\n",
       "      <td>Name</td>\n",
       "    </tr>\n",
       "    <tr>\n",
       "      <th>4</th>\n",
       "      <td>Pos</td>\n",
       "      <td>Position</td>\n",
       "    </tr>\n",
       "    <tr>\n",
       "      <th>5</th>\n",
       "      <td>G</td>\n",
       "      <td>Games Played</td>\n",
       "    </tr>\n",
       "    <tr>\n",
       "      <th>6</th>\n",
       "      <td>GS</td>\n",
       "      <td>Games Started</td>\n",
       "    </tr>\n",
       "    <tr>\n",
       "      <th>7</th>\n",
       "      <td>FG</td>\n",
       "      <td>Field Goals Attempted</td>\n",
       "    </tr>\n",
       "    <tr>\n",
       "      <th>8</th>\n",
       "      <td>FG%</td>\n",
       "      <td>Field Goal Percentage</td>\n",
       "    </tr>\n",
       "    <tr>\n",
       "      <th>9</th>\n",
       "      <td>3P</td>\n",
       "      <td>3 Pointers Attempted per Game</td>\n",
       "    </tr>\n",
       "    <tr>\n",
       "      <th>10</th>\n",
       "      <td>3P%</td>\n",
       "      <td>3 Point Percentage</td>\n",
       "    </tr>\n",
       "    <tr>\n",
       "      <th>11</th>\n",
       "      <td>eFG%</td>\n",
       "      <td>Effective Field Goal Percentage</td>\n",
       "    </tr>\n",
       "    <tr>\n",
       "      <th>12</th>\n",
       "      <td>FT%</td>\n",
       "      <td>Free Throw Percentage</td>\n",
       "    </tr>\n",
       "    <tr>\n",
       "      <th>13</th>\n",
       "      <td>ORB</td>\n",
       "      <td>Offensive Rebounds</td>\n",
       "    </tr>\n",
       "    <tr>\n",
       "      <th>14</th>\n",
       "      <td>TRB</td>\n",
       "      <td>Total Rebounds</td>\n",
       "    </tr>\n",
       "    <tr>\n",
       "      <th>15</th>\n",
       "      <td>AST</td>\n",
       "      <td>Assists Per Game</td>\n",
       "    </tr>\n",
       "    <tr>\n",
       "      <th>16</th>\n",
       "      <td>STL</td>\n",
       "      <td>Steals per Game</td>\n",
       "    </tr>\n",
       "    <tr>\n",
       "      <th>17</th>\n",
       "      <td>BLK</td>\n",
       "      <td>Blocks Per Game</td>\n",
       "    </tr>\n",
       "    <tr>\n",
       "      <th>18</th>\n",
       "      <td>PS/G</td>\n",
       "      <td>Points per Game</td>\n",
       "    </tr>\n",
       "    <tr>\n",
       "      <th>19</th>\n",
       "      <td>TOV</td>\n",
       "      <td>Turnovers per Game</td>\n",
       "    </tr>\n",
       "    <tr>\n",
       "      <th>20</th>\n",
       "      <td>Age</td>\n",
       "      <td>Age</td>\n",
       "    </tr>\n",
       "    <tr>\n",
       "      <th>21</th>\n",
       "      <td>WS</td>\n",
       "      <td>Win Shares</td>\n",
       "    </tr>\n",
       "    <tr>\n",
       "      <th>22</th>\n",
       "      <td>PER</td>\n",
       "      <td>Player Efficiency Rating</td>\n",
       "    </tr>\n",
       "    <tr>\n",
       "      <th>23</th>\n",
       "      <td>MP</td>\n",
       "      <td>Minutes Played in the season</td>\n",
       "    </tr>\n",
       "    <tr>\n",
       "      <th>24</th>\n",
       "      <td>TRB%</td>\n",
       "      <td>Total Rebound Percentage</td>\n",
       "    </tr>\n",
       "    <tr>\n",
       "      <th>25</th>\n",
       "      <td>AST%</td>\n",
       "      <td>Assist Percentage</td>\n",
       "    </tr>\n",
       "    <tr>\n",
       "      <th>26</th>\n",
       "      <td>TOV%</td>\n",
       "      <td>Turnover Percentage</td>\n",
       "    </tr>\n",
       "    <tr>\n",
       "      <th>27</th>\n",
       "      <td>OWS</td>\n",
       "      <td>Offensive Win Shares</td>\n",
       "    </tr>\n",
       "    <tr>\n",
       "      <th>28</th>\n",
       "      <td>DWS</td>\n",
       "      <td>Defensive Win Shares</td>\n",
       "    </tr>\n",
       "    <tr>\n",
       "      <th>29</th>\n",
       "      <td>M/G</td>\n",
       "      <td>Minutes Per Game</td>\n",
       "    </tr>\n",
       "    <tr>\n",
       "      <th>30</th>\n",
       "      <td>AST/TOV</td>\n",
       "      <td>Assist to Turnover Ratio Per Game</td>\n",
       "    </tr>\n",
       "  </tbody>\n",
       "</table>\n",
       "</div>"
      ],
      "text/plain": [
       "   Abbreviation                            Meaning\n",
       "0            Rk                               Rank\n",
       "1            Tm                               Team\n",
       "2       2018-19          Salary for 2018-19 season\n",
       "3          Name                               Name\n",
       "4           Pos                           Position\n",
       "5             G                       Games Played\n",
       "6            GS                      Games Started\n",
       "7            FG              Field Goals Attempted\n",
       "8           FG%              Field Goal Percentage\n",
       "9            3P      3 Pointers Attempted per Game\n",
       "10          3P%                 3 Point Percentage\n",
       "11         eFG%    Effective Field Goal Percentage\n",
       "12          FT%              Free Throw Percentage\n",
       "13          ORB                 Offensive Rebounds\n",
       "14          TRB                     Total Rebounds\n",
       "15          AST                   Assists Per Game\n",
       "16          STL                    Steals per Game\n",
       "17          BLK                    Blocks Per Game\n",
       "18         PS/G                    Points per Game\n",
       "19          TOV                 Turnovers per Game\n",
       "20          Age                                Age\n",
       "21           WS                         Win Shares\n",
       "22          PER           Player Efficiency Rating\n",
       "23           MP       Minutes Played in the season\n",
       "24         TRB%           Total Rebound Percentage\n",
       "25         AST%                  Assist Percentage\n",
       "26         TOV%                Turnover Percentage\n",
       "27          OWS               Offensive Win Shares\n",
       "28          DWS               Defensive Win Shares\n",
       "29          M/G                   Minutes Per Game\n",
       "30      AST/TOV  Assist to Turnover Ratio Per Game"
      ]
     },
     "execution_count": 3,
     "metadata": {},
     "output_type": "execute_result"
    }
   ],
   "source": [
    "feature_names = pd.read_csv('Names_full').drop('Unnamed: 0', axis = 1)\n",
    "feature_names"
   ]
  },
  {
   "cell_type": "code",
   "execution_count": 4,
   "metadata": {},
   "outputs": [
    {
     "name": "stderr",
     "output_type": "stream",
     "text": [
      "C:\\Users\\miste\\Miniconda3\\envs\\py36\\lib\\site-packages\\matplotlib\\figure.py:2267: UserWarning: This figure includes Axes that are not compatible with tight_layout, so results might be incorrect.\n",
      "  warnings.warn(\"This figure includes Axes that are not compatible \"\n"
     ]
    },
    {
     "data": {
      "image/png": "[encoded data removed]",
      "text/plain": [
       "<Figure size 432x288 with 4 Axes>"
      ]
     },
     "metadata": {},
     "output_type": "display_data"
    }
   ],
   "source": [
    "n_bins = 20\n",
    "_ = fig, axs = plt.subplots(2, 2, sharey=True, tight_layout=True)\n",
    "_ = axs[0,0].hist(Total2018['PS/G'], bins=n_bins)\n",
    "_ = axs[0,0].set_title('Points per Game')\n",
    "_ = axs[0,1].hist(Total2018['GS'], bins=n_bins)\n",
    "_ = axs[0,1].set_title('Games Started')\n",
    "_ = axs[1,0].hist(Total2018['WS'], bins=n_bins)\n",
    "_ = axs[1,0].set_title('Win Shares')\n",
    "_ = axs[1,1].hist(Total2018['M/G'], bins=n_bins)\n",
    "_ = axs[1,1].set_title('Minutes per Game')\n",
    "\n"
   ]
  },
  {
   "cell_type": "markdown",
   "metadata": {},
   "source": [
    "As you can see from the plots above, the four variables that I believe to be most important to a player's salary are not normal, and tend to be skewed to the right. Because of this, I will run normal tests that you usually run for normal distributions, but I will also do a Mann-Whitney test for each of them, and see if the results differ at all. "
   ]
  },
  {
   "cell_type": "markdown",
   "metadata": {},
   "source": [
    "#### Performing a permutation test on the $\\rho$ for Points per Game and Salary at an $\\alpha$ = 0.05 level"
   ]
  },
  {
   "cell_type": "code",
   "execution_count": 5,
   "metadata": {},
   "outputs": [],
   "source": [
    "def pearson_r(data_1, data_2):\n",
    "    r = np.corrcoef(data_1, data_2)[0, 1]\n",
    "    return r"
   ]
  },
  {
   "cell_type": "code",
   "execution_count": 6,
   "metadata": {},
   "outputs": [
    {
     "data": {
      "text/plain": [
       "0.6369452628098149"
      ]
     },
     "execution_count": 6,
     "metadata": {},
     "output_type": "execute_result"
    }
   ],
   "source": [
    "emp_points_coeff = pearson_r(Total2018['PS/G'],Total2018['2018-19'])\n",
    "emp_points_coeff"
   ]
  },
  {
   "cell_type": "markdown",
   "metadata": {},
   "source": [
    "\n",
    "H_0: $\\rho$ = 0.637\n",
    "\n",
    "H_a: $\\rho$ $\\neq$ 0.637\n",
    "\n",
    "Where $\\rho$ is the Pearson Correlation Coefficient."
   ]
  },
  {
   "cell_type": "code",
   "execution_count": 8,
   "metadata": {},
   "outputs": [
    {
     "data": {
      "text/plain": [
       "0.0502"
      ]
     },
     "execution_count": 8,
     "metadata": {},
     "output_type": "execute_result"
    }
   ],
   "source": [
    "#In this loop, I shuffle the dataframe, keeping the pairs, but then slice out the last 10 percent of points. I then shuffle\n",
    "#the salary data while keeping the points per game data unshuffled, and put them back together, so that they have new pairs. \n",
    "#Finally, I put this shuffled 10% of the data back with the other 90% of the data and take the new correlation. I do this 10,000 times.\n",
    "import random\n",
    "perm_data = np.empty(10000)\n",
    "for i in range(10000):\n",
    "    shuffled = Total2018[['2018-19','PS/G']].sample(frac = 1)\n",
    "    unshuffled = shuffled[:int(round(len(shuffled)*0.9))]\n",
    "    shuffled2 = shuffled[int(round(len(shuffled)*0.9)):]\n",
    "    \n",
    "    permuted = random.sample(list(shuffled2['2018-19']), len(shuffled2['2018-19']))\n",
    "    permuted_frame = pd.DataFrame({'2018-19':permuted, 'PS/G': list(shuffled2['PS/G'].values)})\n",
    "    \n",
    "    total_shuff= unshuffled.append(permuted_frame)\n",
    "    perm_data[i] = pearson_r(total_shuff['2018-19'], total_shuff['PS/G'])\n",
    "p = np.sum(perm_data >= emp_points_coeff)/ float(len(perm_data))\n",
    "p * 2 #since two sided test"
   ]
  },
  {
   "cell_type": "markdown",
   "metadata": {},
   "source": [
    "As you can see, the correlation is significant. I recieved a p of 0.0058. Since p < $\\alpha$, we can reject the null hypthesis that the pearson correlation coefficient is 0. "
   ]
  },
  {
   "cell_type": "markdown",
   "metadata": {},
   "source": [
    "### Using the Mann-Whitney test for non-normal distributions. "
   ]
  },
  {
   "cell_type": "code",
   "execution_count": 123,
   "metadata": {
    "scrolled": true
   },
   "outputs": [
    {
     "data": {
      "text/plain": [
       "MannwhitneyuResult(statistic=142129.0, pvalue=3.832579953165935e-125)"
      ]
     },
     "execution_count": 123,
     "metadata": {},
     "output_type": "execute_result"
    }
   ],
   "source": [
    "MannWhitney_points = stats.stats.mannwhitneyu(Total2018['2018-19'], Total2018['PS/G'], alternative = 'greater')\n",
    "MannWhitney_points"
   ]
  },
  {
   "cell_type": "markdown",
   "metadata": {},
   "source": [
    "Using the Mann Whitney test, our conclusion is even more convincing, at a p-value of the order of -125. This is definitely lower than 0.05. "
   ]
  },
  {
   "cell_type": "markdown",
   "metadata": {},
   "source": [
    "#### Performing permutation test on Win Shares vs Salary"
   ]
  },
  {
   "cell_type": "code",
   "execution_count": 10,
   "metadata": {},
   "outputs": [
    {
     "data": {
      "text/plain": [
       "0.5914251612628754"
      ]
     },
     "execution_count": 10,
     "metadata": {},
     "output_type": "execute_result"
    }
   ],
   "source": [
    "emp_WS_coeff = pearson_r(Total2018['2018-19'],Total2018['WS'])\n",
    "emp_WS_coeff"
   ]
  },
  {
   "cell_type": "markdown",
   "metadata": {},
   "source": [
    "\n",
    "H_0: $\\rho$ = 0.591\n",
    "\n",
    "H_a: $\\rho$ $\\neq$ 0.591\n",
    "\n",
    "Where $\\rho$ is the Pearson Correlation Coefficient."
   ]
  },
  {
   "cell_type": "code",
   "execution_count": 11,
   "metadata": {},
   "outputs": [
    {
     "data": {
      "text/plain": [
       "0.0942"
      ]
     },
     "execution_count": 11,
     "metadata": {},
     "output_type": "execute_result"
    }
   ],
   "source": [
    "import random\n",
    "perm_data = np.empty(10000)\n",
    "for i in range(10000):\n",
    "    shuffled = Total2018[['2018-19','WS']].sample(frac = 1)\n",
    "    unshuffled = shuffled[:int(round(len(shuffled)*0.9))]\n",
    "    shuffled2 = shuffled[int(round(len(shuffled)*0.9)):]\n",
    "    \n",
    "    permuted = random.sample(list(shuffled2['2018-19']), len(shuffled2['2018-19']))\n",
    "    permuted_frame = pd.DataFrame({'2018-19':permuted, 'WS': list(shuffled2['WS'].values)})\n",
    "    \n",
    "    total_shuff= unshuffled.append(permuted_frame)\n",
    "    perm_data[i] = (pearson_r(total_shuff['2018-19'], total_shuff['WS']))\n",
    "p = np.sum(perm_data >= emp_WS_coeff)/ float(len(perm_data))\n",
    "p*2"
   ]
  },
  {
   "cell_type": "markdown",
   "metadata": {},
   "source": [
    "Since 0.0164 > 0.05, we cannot say that $\\rho$ $\\neq$ 0.591"
   ]
  },
  {
   "cell_type": "code",
   "execution_count": 126,
   "metadata": {},
   "outputs": [
    {
     "data": {
      "text/plain": [
       "MannwhitneyuResult(statistic=142129.0, pvalue=3.789433018467404e-125)"
      ]
     },
     "execution_count": 126,
     "metadata": {},
     "output_type": "execute_result"
    }
   ],
   "source": [
    "MannWhitney_WS = stats.stats.mannwhitneyu(Total2018['2018-19'], Total2018['WS'], alternative = 'greater')\n",
    "MannWhitney_WS"
   ]
  },
  {
   "cell_type": "markdown",
   "metadata": {},
   "source": [
    "Performing tests on rebounds"
   ]
  },
  {
   "cell_type": "code",
   "execution_count": 127,
   "metadata": {},
   "outputs": [
    {
     "data": {
      "text/plain": [
       "0.5691345312849369"
      ]
     },
     "execution_count": 127,
     "metadata": {},
     "output_type": "execute_result"
    }
   ],
   "source": [
    "emp_GS_coeff = pearson_r(Total2018['2018-19'],Total2018['GS'])\n",
    "emp_GS_coeff"
   ]
  },
  {
   "cell_type": "markdown",
   "metadata": {},
   "source": [
    "\n",
    "H_0: $\\rho$ = 0.569\n",
    "\n",
    "H_a: $\\rho$ $\\neq$ 0.569\n",
    "\n",
    "Where $\\rho$ is the Pearson Correlation Coefficient."
   ]
  },
  {
   "cell_type": "code",
   "execution_count": 128,
   "metadata": {},
   "outputs": [
    {
     "data": {
      "text/plain": [
       "0.0066"
      ]
     },
     "execution_count": 128,
     "metadata": {},
     "output_type": "execute_result"
    }
   ],
   "source": [
    "import random\n",
    "perm_data = np.empty(10000)\n",
    "for i in range(10000):\n",
    "    shuffled = Total2018[['2018-19','GS']].sample(frac = 1)\n",
    "    unshuffled = shuffled[:int(round(len(shuffled)*0.9))]\n",
    "    shuffled2 = shuffled[int(round(len(shuffled)*0.9)):]\n",
    "    \n",
    "    permuted = random.sample(list(shuffled2['2018-19']), len(shuffled2['2018-19']))\n",
    "    permuted_frame = pd.DataFrame({'2018-19':permuted, 'GS': list(shuffled2['GS'].values)})\n",
    "    \n",
    "    total_shuff= unshuffled.append(permuted_frame)\n",
    "    perm_data[i] = (pearson_r(total_shuff['2018-19'], total_shuff['GS']))\n",
    "p = np.sum(perm_data >= emp_GS_coeff)/ float(len(perm_data))\n",
    "p * 2"
   ]
  },
  {
   "cell_type": "markdown",
   "metadata": {},
   "source": [
    "Since 0.0066 < 0.05, then I cannot conclude that $\\rho$ $\\neq$ 0.569"
   ]
  },
  {
   "cell_type": "code",
   "execution_count": 129,
   "metadata": {},
   "outputs": [
    {
     "data": {
      "text/plain": [
       "MannwhitneyuResult(statistic=142129.0, pvalue=3.4878487776321864e-125)"
      ]
     },
     "execution_count": 129,
     "metadata": {},
     "output_type": "execute_result"
    }
   ],
   "source": [
    "MannWhitney_GS = stats.stats.mannwhitneyu(Total2018['2018-19'], Total2018['GS'], alternative = 'greater')\n",
    "MannWhitney_GS"
   ]
  },
  {
   "cell_type": "markdown",
   "metadata": {},
   "source": [
    "Running the test on Minutes per Game and Salary"
   ]
  },
  {
   "cell_type": "code",
   "execution_count": 130,
   "metadata": {},
   "outputs": [
    {
     "data": {
      "text/plain": [
       "0.58354567163383"
      ]
     },
     "execution_count": 130,
     "metadata": {},
     "output_type": "execute_result"
    }
   ],
   "source": [
    "emp_MG_coeff = pearson_r(Total2018['2018-19'],Total2018['M/G'])\n",
    "emp_MG_coeff"
   ]
  },
  {
   "cell_type": "markdown",
   "metadata": {},
   "source": [
    "\n",
    "H_0: $\\rho$ = 0.583\n",
    "\n",
    "H_a: $\\rho$ $\\neq$ 0.583\n",
    "\n",
    "Where $\\rho$ is the Pearson Correlation Coefficient."
   ]
  },
  {
   "cell_type": "code",
   "execution_count": 131,
   "metadata": {},
   "outputs": [
    {
     "data": {
      "text/plain": [
       "0.0054"
      ]
     },
     "execution_count": 131,
     "metadata": {},
     "output_type": "execute_result"
    }
   ],
   "source": [
    "import random\n",
    "perm_data = np.empty(10000)\n",
    "for i in range(10000):\n",
    "    shuffled = Total2018[['2018-19','M/G']].sample(frac = 1)\n",
    "    unshuffled = shuffled[:int(round(len(shuffled)*0.9))]\n",
    "    shuffled2 = shuffled[int(round(len(shuffled)*0.9)):]\n",
    "    \n",
    "    permuted = random.sample(list(shuffled2['2018-19']), len(shuffled2['2018-19']))\n",
    "    permuted_frame = pd.DataFrame({'2018-19':permuted, 'M/G': list(shuffled2['M/G'].values)})\n",
    "    \n",
    "    total_shuff= unshuffled.append(permuted_frame)\n",
    "    perm_data[i] = (pearson_r(total_shuff['2018-19'], total_shuff['M/G']))\n",
    "p = np.sum(perm_data >= emp_MG_coeff)/ float(len(perm_data))\n",
    "p * 2"
   ]
  },
  {
   "cell_type": "markdown",
   "metadata": {},
   "source": [
    "Since 0.0052 < 0.05, then I cannot conclude that $\\rho$ $\\neq$ 0.583"
   ]
  },
  {
   "cell_type": "code",
   "execution_count": 132,
   "metadata": {},
   "outputs": [
    {
     "data": {
      "text/plain": [
       "MannwhitneyuResult(statistic=142129.0, pvalue=3.842716033511119e-125)"
      ]
     },
     "execution_count": 132,
     "metadata": {},
     "output_type": "execute_result"
    }
   ],
   "source": [
    "MannWhitney_MG = stats.stats.mannwhitneyu(Total2018['2018-19'], Total2018['M/G'], alternative = 'greater')\n",
    "MannWhitney_MG"
   ]
  },
  {
   "cell_type": "markdown",
   "metadata": {},
   "source": [
    "## Comparing the means between two different groups. Either teams or positions. "
   ]
  },
  {
   "cell_type": "markdown",
   "metadata": {},
   "source": [
    "For each of these different pairings, I will do two different tests. One with a bootstrapping technique, and one using a module to obtain a t-score and p-value."
   ]
  },
  {
   "cell_type": "code",
   "execution_count": 133,
   "metadata": {},
   "outputs": [
    {
     "data": {
      "text/html": [
       "<div>\n",
       "<style scoped>\n",
       "    .dataframe tbody tr th:only-of-type {\n",
       "        vertical-align: middle;\n",
       "    }\n",
       "\n",
       "    .dataframe tbody tr th {\n",
       "        vertical-align: top;\n",
       "    }\n",
       "\n",
       "    .dataframe thead th {\n",
       "        text-align: right;\n",
       "    }\n",
       "</style>\n",
       "<table border=\"1\" class=\"dataframe\">\n",
       "  <thead>\n",
       "    <tr style=\"text-align: right;\">\n",
       "      <th></th>\n",
       "      <th>2018-19</th>\n",
       "    </tr>\n",
       "    <tr>\n",
       "      <th>Tm</th>\n",
       "      <th></th>\n",
       "    </tr>\n",
       "  </thead>\n",
       "  <tbody>\n",
       "    <tr>\n",
       "      <th>GSW</th>\n",
       "      <td>1.274689e+07</td>\n",
       "    </tr>\n",
       "    <tr>\n",
       "      <th>OKC</th>\n",
       "      <td>1.232317e+07</td>\n",
       "    </tr>\n",
       "    <tr>\n",
       "      <th>WAS</th>\n",
       "      <td>1.140421e+07</td>\n",
       "    </tr>\n",
       "    <tr>\n",
       "      <th>TOR</th>\n",
       "      <td>1.113414e+07</td>\n",
       "    </tr>\n",
       "    <tr>\n",
       "      <th>MIA</th>\n",
       "      <td>1.043003e+07</td>\n",
       "    </tr>\n",
       "  </tbody>\n",
       "</table>\n",
       "</div>"
      ],
      "text/plain": [
       "          2018-19\n",
       "Tm               \n",
       "GSW  1.274689e+07\n",
       "OKC  1.232317e+07\n",
       "WAS  1.140421e+07\n",
       "TOR  1.113414e+07\n",
       "MIA  1.043003e+07"
      ]
     },
     "execution_count": 133,
     "metadata": {},
     "output_type": "execute_result"
    }
   ],
   "source": [
    "by_team = Total2018[['2018-19','Tm']].groupby('Tm').mean().sort_values(by = '2018-19', ascending = False)\n",
    "by_team.head(5)"
   ]
  },
  {
   "cell_type": "markdown",
   "metadata": {},
   "source": [
    "The top 5 highest average salaries in the NBA belong to GSW, OKC, WAS, TOR, MIA. "
   ]
  },
  {
   "cell_type": "code",
   "execution_count": 134,
   "metadata": {},
   "outputs": [
    {
     "data": {
      "text/plain": [
       "423722.28671328723"
      ]
     },
     "execution_count": 134,
     "metadata": {},
     "output_type": "execute_result"
    }
   ],
   "source": [
    "emp_mean_diff = by_team['2018-19'].loc['GSW'] - by_team['2018-19'].loc['OKC']\n",
    "emp_mean_diff"
   ]
  },
  {
   "cell_type": "markdown",
   "metadata": {},
   "source": [
    "By subtracting the mean difference between the top two teams, I have found that they only differ by abotu \\$423,722"
   ]
  },
  {
   "cell_type": "markdown",
   "metadata": {},
   "source": [
    "#### Obtaining a p-value for difference in means to see if this mean difference is truly significant. \n",
    "\n",
    "H_0: $\\mu_{GSW}$ = $\\mu_{OKC}$\n",
    "\n",
    "H_a: $\\mu_{GSW}$ > $\\mu_{OKC}$\n",
    "\n",
    "with a $\\alpha$ = 0.05 level"
   ]
  },
  {
   "cell_type": "code",
   "execution_count": 135,
   "metadata": {},
   "outputs": [],
   "source": [
    "GSW_sal = Total2018['2018-19'].loc[Total2018['Tm'] =='GSW']\n",
    "OKC_sal = Total2018['2018-19'].loc[Total2018['Tm'] == 'OKC']\n"
   ]
  },
  {
   "cell_type": "code",
   "execution_count": 136,
   "metadata": {},
   "outputs": [],
   "source": [
    "def permutations(data_1, data_2):\n",
    "    data = np.concatenate((data_1, data_2))\n",
    "    perms = np.random.choice(data, len(data))\n",
    "    perm_team1 = perms[:len(data_1)]\n",
    "    perm_team2 = perms[len(data_1):]\n",
    "    return perm_team1, perm_team2"
   ]
  },
  {
   "cell_type": "code",
   "execution_count": 137,
   "metadata": {},
   "outputs": [],
   "source": [
    "def bootstrap(data_1, data_2, size):\n",
    "    boots = np.empty(size)\n",
    "    for i in range(size):\n",
    "        perm_team1, perm_team2 = permutations(data_1, data_2)\n",
    "        boots[i] = np.mean(perm_team1) - np.mean(perm_team2)\n",
    "    return boots"
   ]
  },
  {
   "cell_type": "code",
   "execution_count": 138,
   "metadata": {},
   "outputs": [
    {
     "data": {
      "text/plain": [
       "0.4648"
      ]
     },
     "execution_count": 138,
     "metadata": {},
     "output_type": "execute_result"
    }
   ],
   "source": [
    "theo_mean_diffs = bootstrap(GSW_sal, OKC_sal, 10000)\n",
    "p = np.sum(theo_mean_diffs >= emp_mean_diff) / float(len(theo_mean_diffs))\n",
    "p"
   ]
  },
  {
   "cell_type": "markdown",
   "metadata": {},
   "source": [
    "At a p-value of 0.4593, we are unable to reject the null hypothesis that the Golden State Warriors players have the same average salary as the players on the Oklahoma City Thunder. "
   ]
  },
  {
   "cell_type": "markdown",
   "metadata": {},
   "source": [
    "#### Using the ttest from scipy.stats to preform the same test"
   ]
  },
  {
   "cell_type": "code",
   "execution_count": 139,
   "metadata": {},
   "outputs": [
    {
     "data": {
      "text/plain": [
       "0.46719365408651387"
      ]
     },
     "execution_count": 139,
     "metadata": {},
     "output_type": "execute_result"
    }
   ],
   "source": [
    "t_GSW_OKC = stats.stats.ttest_ind(Total2018['2018-19'].loc[Total2018['Tm']=='GSW'], Total2018['2018-19'].loc[Total2018['Tm'] == 'OKC'])\n",
    "t_GSW_OKC.pvalue / 2"
   ]
  },
  {
   "cell_type": "markdown",
   "metadata": {},
   "source": [
    "As this returns a 2 sided p-value, I divided it by 2 to get the 1-sided. It returns approximately the same thing. "
   ]
  },
  {
   "cell_type": "markdown",
   "metadata": {},
   "source": [
    "Now, going to check to see if the difference between the highest average salary team and the lowest salary team is significant. I will be using the same hypotheses."
   ]
  },
  {
   "cell_type": "code",
   "execution_count": 140,
   "metadata": {},
   "outputs": [
    {
     "data": {
      "text/html": [
       "<div>\n",
       "<style scoped>\n",
       "    .dataframe tbody tr th:only-of-type {\n",
       "        vertical-align: middle;\n",
       "    }\n",
       "\n",
       "    .dataframe tbody tr th {\n",
       "        vertical-align: top;\n",
       "    }\n",
       "\n",
       "    .dataframe thead th {\n",
       "        text-align: right;\n",
       "    }\n",
       "</style>\n",
       "<table border=\"1\" class=\"dataframe\">\n",
       "  <thead>\n",
       "    <tr style=\"text-align: right;\">\n",
       "      <th></th>\n",
       "      <th>2018-19</th>\n",
       "    </tr>\n",
       "    <tr>\n",
       "      <th>Tm</th>\n",
       "      <th></th>\n",
       "    </tr>\n",
       "  </thead>\n",
       "  <tbody>\n",
       "    <tr>\n",
       "      <th>SAC</th>\n",
       "      <td>5.316771e+06</td>\n",
       "    </tr>\n",
       "  </tbody>\n",
       "</table>\n",
       "</div>"
      ],
      "text/plain": [
       "          2018-19\n",
       "Tm               \n",
       "SAC  5.316771e+06"
      ]
     },
     "execution_count": 140,
     "metadata": {},
     "output_type": "execute_result"
    }
   ],
   "source": [
    "by_team.tail(1)"
   ]
  },
  {
   "cell_type": "code",
   "execution_count": 141,
   "metadata": {},
   "outputs": [
    {
     "data": {
      "text/plain": [
       "7430122.517482517"
      ]
     },
     "execution_count": 141,
     "metadata": {},
     "output_type": "execute_result"
    }
   ],
   "source": [
    "emp_mean_diff2 = by_team['2018-19'].loc['GSW'] - by_team['2018-19'].loc['SAC']\n",
    "emp_mean_diff2"
   ]
  },
  {
   "cell_type": "markdown",
   "metadata": {},
   "source": [
    "This time, the mean difference is over \\$7,000,000"
   ]
  },
  {
   "cell_type": "markdown",
   "metadata": {},
   "source": [
    "#### Obtaining a p-value for difference in means to see if this mean difference is truly significant. \n",
    "\n",
    "H_0: $\\mu_{GSW}$ = $\\mu_{SAC}$\n",
    "\n",
    "H_a: $\\mu_{GSW}$ > $\\mu_{SAC}$\n",
    "\n",
    "with a $\\alpha$ = 0.05 level"
   ]
  },
  {
   "cell_type": "code",
   "execution_count": 142,
   "metadata": {},
   "outputs": [],
   "source": [
    "SAC_sal = Total2018['2018-19'].loc[Total2018['Tm'] == 'SAC']"
   ]
  },
  {
   "cell_type": "code",
   "execution_count": 143,
   "metadata": {
    "scrolled": true
   },
   "outputs": [
    {
     "data": {
      "text/plain": [
       "0.0253"
      ]
     },
     "execution_count": 143,
     "metadata": {},
     "output_type": "execute_result"
    }
   ],
   "source": [
    "theo_mean_diffs2 = bootstrap(GSW_sal, SAC_sal, 10000)\n",
    "p = np.sum(theo_mean_diffs2 >= emp_mean_diff2) / float(len(theo_mean_diffs2))\n",
    "p"
   ]
  },
  {
   "cell_type": "markdown",
   "metadata": {},
   "source": [
    "Since 0.025 < 0.05, we can confidently reject the null hypothesis that the Warriors have the same average salary as the Kings. "
   ]
  },
  {
   "cell_type": "code",
   "execution_count": 144,
   "metadata": {},
   "outputs": [
    {
     "data": {
      "text/plain": [
       "0.025815037883294954"
      ]
     },
     "execution_count": 144,
     "metadata": {},
     "output_type": "execute_result"
    }
   ],
   "source": [
    "t_GSW_SAC = stats.stats.ttest_ind(Total2018['2018-19'].loc[Total2018['Tm']=='GSW'], Total2018['2018-19'].loc[Total2018['Tm'] == 'SAC'])\n",
    "t_GSW_SAC.pvalue / 2"
   ]
  },
  {
   "cell_type": "markdown",
   "metadata": {},
   "source": [
    "The result here is the same. "
   ]
  },
  {
   "cell_type": "markdown",
   "metadata": {},
   "source": [
    "### Checking to see if the mean of the highest paid team is sgnificantly different than the rest of the NBA"
   ]
  },
  {
   "cell_type": "markdown",
   "metadata": {},
   "source": [
    "H_0: $\\mu_{GSW}$ = $\\mu_{NBA}$\n",
    "\n",
    "H_a: $\\mu_{GSW}$ $\\neq$ $\\mu_{NBA}$"
   ]
  },
  {
   "cell_type": "code",
   "execution_count": 145,
   "metadata": {
    "scrolled": true
   },
   "outputs": [
    {
     "data": {
      "text/plain": [
       "0.1292"
      ]
     },
     "execution_count": 145,
     "metadata": {},
     "output_type": "execute_result"
    }
   ],
   "source": [
    "emp_mean_diff3 = by_team['2018-19'].loc['GSW'] - np.mean(Total2018['2018-19'].loc[Total2018['Tm'] != 'GSW'])\n",
    "theo_mean_diffs3 = bootstrap(GSW_sal, Total2018['2018-19'], 10000)\n",
    "p = np.sum(theo_mean_diffs3 >= emp_mean_diff3) / float(len(theo_mean_diffs3))\n",
    "p*2\n"
   ]
  },
  {
   "cell_type": "markdown",
   "metadata": {},
   "source": [
    "Since 0.1394 > 0.05, then we cannot conclude at an $\\alpha$ = 0.05 level that there is a sgnificant difference between the Warriors and the rest of the NBA."
   ]
  },
  {
   "cell_type": "code",
   "execution_count": 146,
   "metadata": {
    "scrolled": true
   },
   "outputs": [
    {
     "data": {
      "text/plain": [
       "Ttest_indResult(statistic=1.6038617074009456, pvalue=0.1095863948108629)"
      ]
     },
     "execution_count": 146,
     "metadata": {},
     "output_type": "execute_result"
    }
   ],
   "source": [
    "t = stats.stats.ttest_ind(Total2018['2018-19'].loc[Total2018['Tm']=='GSW'], Total2018['2018-19'].loc[Total2018['Tm'] != 'GSW'])\n",
    "t"
   ]
  },
  {
   "cell_type": "markdown",
   "metadata": {},
   "source": [
    "Using the t-test, I can come to the same conclusion."
   ]
  },
  {
   "cell_type": "markdown",
   "metadata": {},
   "source": [
    "### Performing the same test, except across two different positions, instead of teams. "
   ]
  },
  {
   "cell_type": "code",
   "execution_count": 147,
   "metadata": {},
   "outputs": [
    {
     "data": {
      "text/html": [
       "<div>\n",
       "<style scoped>\n",
       "    .dataframe tbody tr th:only-of-type {\n",
       "        vertical-align: middle;\n",
       "    }\n",
       "\n",
       "    .dataframe tbody tr th {\n",
       "        vertical-align: top;\n",
       "    }\n",
       "\n",
       "    .dataframe thead th {\n",
       "        text-align: right;\n",
       "    }\n",
       "</style>\n",
       "<table border=\"1\" class=\"dataframe\">\n",
       "  <thead>\n",
       "    <tr style=\"text-align: right;\">\n",
       "      <th></th>\n",
       "      <th>2018-19</th>\n",
       "    </tr>\n",
       "    <tr>\n",
       "      <th>Pos</th>\n",
       "      <th></th>\n",
       "    </tr>\n",
       "  </thead>\n",
       "  <tbody>\n",
       "    <tr>\n",
       "      <th>C</th>\n",
       "      <td>9.015265e+06</td>\n",
       "    </tr>\n",
       "    <tr>\n",
       "      <th>PF</th>\n",
       "      <td>9.003547e+06</td>\n",
       "    </tr>\n",
       "    <tr>\n",
       "      <th>SF</th>\n",
       "      <td>9.000547e+06</td>\n",
       "    </tr>\n",
       "    <tr>\n",
       "      <th>PG</th>\n",
       "      <td>8.805146e+06</td>\n",
       "    </tr>\n",
       "    <tr>\n",
       "      <th>SG</th>\n",
       "      <td>8.436527e+06</td>\n",
       "    </tr>\n",
       "    <tr>\n",
       "      <th>SF-SG</th>\n",
       "      <td>1.238616e+06</td>\n",
       "    </tr>\n",
       "  </tbody>\n",
       "</table>\n",
       "</div>"
      ],
      "text/plain": [
       "            2018-19\n",
       "Pos                \n",
       "C      9.015265e+06\n",
       "PF     9.003547e+06\n",
       "SF     9.000547e+06\n",
       "PG     8.805146e+06\n",
       "SG     8.436527e+06\n",
       "SF-SG  1.238616e+06"
      ]
     },
     "execution_count": 147,
     "metadata": {},
     "output_type": "execute_result"
    }
   ],
   "source": [
    "by_pos = Total2018[['2018-19','Pos']].groupby('Pos').mean().sort_values(by = '2018-19', ascending = False)\n",
    "by_pos"
   ]
  },
  {
   "cell_type": "markdown",
   "metadata": {},
   "source": [
    "H_0: $\\mu_{C}$ = $\\mu_{SG}$\n",
    "\n",
    "H_a: $\\mu_{C}$ > $\\mu_{SG}$"
   ]
  },
  {
   "cell_type": "code",
   "execution_count": 148,
   "metadata": {},
   "outputs": [
    {
     "data": {
      "text/plain": [
       "578737.825581396"
      ]
     },
     "execution_count": 148,
     "metadata": {},
     "output_type": "execute_result"
    }
   ],
   "source": [
    "emp_mean_tm = by_pos['2018-19'].loc['C'] - by_pos['2018-19'].loc['SG']\n",
    "emp_mean_tm"
   ]
  },
  {
   "cell_type": "code",
   "execution_count": 149,
   "metadata": {},
   "outputs": [],
   "source": [
    "SG_sal = Total2018['2018-19'].loc[Total2018['Pos'] == 'SG']\n",
    "C_sal = Total2018['2018-19'].loc[Total2018['Pos'] == 'C']\n"
   ]
  },
  {
   "cell_type": "code",
   "execution_count": 150,
   "metadata": {},
   "outputs": [
    {
     "data": {
      "text/plain": [
       "0.3034"
      ]
     },
     "execution_count": 150,
     "metadata": {},
     "output_type": "execute_result"
    }
   ],
   "source": [
    "theo_mean_tm = bootstrap(C_sal, SG_sal, 10000)\n",
    "p = np.sum(theo_mean_tm >= emp_mean_tm) / float(len(theo_mean_tm))\n",
    "p"
   ]
  },
  {
   "cell_type": "markdown",
   "metadata": {},
   "source": [
    "Since 0.309 > 0.05, then I cannot conclude that there is any difference between the salaries of two different positions in the NBA."
   ]
  },
  {
   "cell_type": "code",
   "execution_count": 151,
   "metadata": {},
   "outputs": [
    {
     "data": {
      "text/plain": [
       "0.31189332447762497"
      ]
     },
     "execution_count": 151,
     "metadata": {},
     "output_type": "execute_result"
    }
   ],
   "source": [
    "t_C_SG = stats.stats.ttest_ind(Total2018['2018-19'].loc[Total2018['Pos']=='C'], Total2018['2018-19'].loc[Total2018['Pos'] == 'SG'])\n",
    "t_C_SG.pvalue / 2"
   ]
  },
  {
   "cell_type": "markdown",
   "metadata": {},
   "source": [
    "This p-value is still significantly greater than 0.05. "
   ]
  },
  {
   "cell_type": "markdown",
   "metadata": {},
   "source": [
    "### Performing Ordinary Least Squares Regression with features that I decided looked to be strongly correlated with salary from my initial EDA"
   ]
  },
  {
   "cell_type": "code",
   "execution_count": 152,
   "metadata": {},
   "outputs": [],
   "source": [
    "Total2018['3P%'] = Total2018['3P%'].fillna(0)\n",
    "Total2018['FT%'] = Total2018['FT%'].fillna(0)"
   ]
  },
  {
   "cell_type": "code",
   "execution_count": 153,
   "metadata": {},
   "outputs": [
    {
     "data": {
      "image/png": "[encoded data removed]",
      "text/plain": [
       "<Figure size 720x720 with 20 Axes>"
      ]
     },
     "metadata": {},
     "output_type": "display_data"
    }
   ],
   "source": [
    "_ = sns.pairplot(Total2018[['GS','WS','M/G','PS/G']])"
   ]
  },
  {
   "cell_type": "markdown",
   "metadata": {
    "collapsed": true
   },
   "source": [
    "From the 4 big stats that I hypothesized had the biggest effect on salary, I can see that there are quite a few that are correlated. Points per game and minutes per game are strongly correlated, Win Shares and Points Per Game, and minutes per game and Win Shares are correlated (which is because of the correlation between points and minutes)."
   ]
  },
  {
   "cell_type": "code",
   "execution_count": 154,
   "metadata": {
    "scrolled": true
   },
   "outputs": [
    {
     "data": {
      "image/png": "[encoded data removed]",
      "text/plain": [
       "<Figure size 432x288 with 1 Axes>"
      ]
     },
     "metadata": {},
     "output_type": "display_data"
    }
   ],
   "source": [
    "from sklearn.decomposition import PCA\n",
    "pca = PCA()\n",
    "model = pca.fit(Total2018[['GS','WS','PS/G','M/G','TRB']])\n",
    "_ = plt.bar(range(len(model.explained_variance_)), model.explained_variance_ratio_)\n"
   ]
  },
  {
   "cell_type": "markdown",
   "metadata": {},
   "source": [
    "From Principal Component Analysis, I can see that there is only 1 Principal Component. This makes sense, because all of the statistics are highly, or at least partially, correlated with one another. This is just from the nature of the game of basketball. If you play a lot of minutes, you will most likely score more, get more rebounds, and provide more wins for the team. And if you are doing all of this well, then you will play more games as well. This can also be seen in the plots above."
   ]
  },
  {
   "cell_type": "markdown",
   "metadata": {},
   "source": [
    "For this reason, I will only run the OLS with Points Per Game and Games played, as these two are the only ones that do not have a strong correlation with eachother. "
   ]
  },
  {
   "cell_type": "code",
   "execution_count": 155,
   "metadata": {},
   "outputs": [],
   "source": [
    "import statsmodels.api as sm\n",
    "from sklearn.linear_model import LinearRegression\n",
    "from sklearn.preprocessing import scale\n",
    "\n",
    "X = (Total2018[['PS/G','GS']])\n",
    "y = Total2018['2018-19']\n",
    "X2 = sm.add_constant(X)\n"
   ]
  },
  {
   "cell_type": "code",
   "execution_count": 156,
   "metadata": {
    "scrolled": true
   },
   "outputs": [
    {
     "name": "stdout",
     "output_type": "stream",
     "text": [
      "                            OLS Regression Results                            \n",
      "==============================================================================\n",
      "Dep. Variable:                2018-19   R-squared:                       0.434\n",
      "Model:                            OLS   Adj. R-squared:                  0.431\n",
      "Method:                 Least Squares   F-statistic:                     143.5\n",
      "Date:                Mon, 17 Sep 2018   Prob (F-statistic):           5.68e-47\n",
      "Time:                        11:11:38   Log-Likelihood:                -6431.6\n",
      "No. Observations:                 377   AIC:                         1.287e+04\n",
      "Df Residuals:                     374   BIC:                         1.288e+04\n",
      "Df Model:                           2                                         \n",
      "Covariance Type:            nonrobust                                         \n",
      "==============================================================================\n",
      "                 coef    std err          t      P>|t|      [0.025      0.975]\n",
      "------------------------------------------------------------------------------\n",
      "const       3.378e+05   6.23e+05      0.542      0.588   -8.88e+05    1.56e+06\n",
      "PS/G        6.472e+05   7.58e+04      8.536      0.000    4.98e+05    7.96e+05\n",
      "GS          6.683e+04   1.54e+04      4.337      0.000    3.65e+04    9.71e+04\n",
      "==============================================================================\n",
      "Omnibus:                       48.331   Durbin-Watson:                   0.804\n",
      "Prob(Omnibus):                  0.000   Jarque-Bera (JB):               80.738\n",
      "Skew:                           0.776   Prob(JB):                     2.94e-18\n",
      "Kurtosis:                       4.652   Cond. No.                         85.6\n",
      "==============================================================================\n",
      "\n",
      "Warnings:\n",
      "[1] Standard Errors assume that the covariance matrix of the errors is correctly specified.\n"
     ]
    }
   ],
   "source": [
    "est = sm.OLS(y, X2)\n",
    "est2 = est.fit()\n",
    "print(est2.summary())\n"
   ]
  },
  {
   "cell_type": "markdown",
   "metadata": {},
   "source": [
    "Running the OLS regression again, except slowly removing variables until all p-values are low."
   ]
  },
  {
   "cell_type": "code",
   "execution_count": 179,
   "metadata": {},
   "outputs": [],
   "source": [
    "import statsmodels.api as sm\n",
    "from sklearn.linear_model import LinearRegression\n",
    "\n",
    "X = Total2018.drop(['2018-19','TOV','TRB','PER','M/G','Rk','FG','DWS','TRB%','MP','STL','eFG%','FG%','Name','GS','TOV%','Pos','Tm','3P','ORB','3P%','Age','AST/TOV','dollar_per_p/g','FT%','BLK','OWS'], axis = 1)\n",
    "y = Total2018['2018-19']\n",
    "X2 = sm.add_constant(X)\n"
   ]
  },
  {
   "cell_type": "code",
   "execution_count": 180,
   "metadata": {
    "scrolled": false
   },
   "outputs": [
    {
     "name": "stdout",
     "output_type": "stream",
     "text": [
      "                            OLS Regression Results                            \n",
      "==============================================================================\n",
      "Dep. Variable:                2018-19   R-squared:                       0.504\n",
      "Model:                            OLS   Adj. R-squared:                  0.497\n",
      "Method:                 Least Squares   F-statistic:                     75.38\n",
      "Date:                Mon, 17 Sep 2018   Prob (F-statistic):           2.30e-54\n",
      "Time:                        11:15:08   Log-Likelihood:                -6406.8\n",
      "No. Observations:                 377   AIC:                         1.283e+04\n",
      "Df Residuals:                     371   BIC:                         1.285e+04\n",
      "Df Model:                           5                                         \n",
      "Covariance Type:            nonrobust                                         \n",
      "==============================================================================\n",
      "                 coef    std err          t      P>|t|      [0.025      0.975]\n",
      "------------------------------------------------------------------------------\n",
      "const       6.782e+06   1.14e+06      5.970      0.000    4.55e+06    9.02e+06\n",
      "G          -9.547e+04   1.66e+04     -5.748      0.000   -1.28e+05   -6.28e+04\n",
      "AST         2.481e+06   6.09e+05      4.077      0.000    1.28e+06    3.68e+06\n",
      "PS/G         4.58e+05   8.85e+04      5.173      0.000    2.84e+05    6.32e+05\n",
      "WS          1.112e+06   1.74e+05      6.398      0.000    7.71e+05    1.45e+06\n",
      "AST%       -4.218e+05   1.07e+05     -3.958      0.000   -6.31e+05   -2.12e+05\n",
      "==============================================================================\n",
      "Omnibus:                       26.562   Durbin-Watson:                   0.970\n",
      "Prob(Omnibus):                  0.000   Jarque-Bera (JB):               35.113\n",
      "Skew:                           0.550   Prob(JB):                     2.37e-08\n",
      "Kurtosis:                       4.013   Cond. No.                         256.\n",
      "==============================================================================\n",
      "\n",
      "Warnings:\n",
      "[1] Standard Errors assume that the covariance matrix of the errors is correctly specified.\n"
     ]
    }
   ],
   "source": [
    "est = sm.OLS(y, X2)\n",
    "est2 = est.fit()\n",
    "print(est2.summary())\n"
   ]
  },
  {
   "cell_type": "code",
   "execution_count": null,
   "metadata": {},
   "outputs": [],
   "source": []
  }
 ],
 "metadata": {
  "kernelspec": {
   "display_name": "Python 3",
   "language": "python",
   "name": "python3"
  },
  "language_info": {
   "codemirror_mode": {
    "name": "ipython",
    "version": 3
   },
   "file_extension": ".py",
   "mimetype": "text/x-python",
   "name": "python",
   "nbconvert_exporter": "python",
   "pygments_lexer": "ipython3",
   "version": "3.6.5"
  }
 },
 "nbformat": 4,
 "nbformat_minor": 1
}
